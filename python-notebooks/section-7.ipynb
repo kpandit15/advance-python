{
    "cells": [
        {
            "cell_type": "markdown",
            "id": "d7f1cafd",
            "metadata": {},
            "source": [
                "## Packages and Modules"
            ]
        },
        {
            "cell_type": "markdown",
            "id": "02434bcc",
            "metadata": {},
            "source": [
                "### import modules"
            ]
        },
        {
            "cell_type": "code",
            "execution_count": 1,
            "metadata": {},
            "outputs": [
                {
                    "name": "stdout",
                    "output_type": "stream",
                    "text": [
                        "113\n"
                    ]
                }
            ],
            "source": [
                "import random\n",
                "\n",
                "print(random.randint(1, 123))"
            ]
        },
        {
            "cell_type": "code",
            "execution_count": 2,
            "id": "3a500ab8",
            "metadata": {},
            "outputs": [
                {
                    "name": "stdout",
                    "output_type": "stream",
                    "text": [
                        "5\n"
                    ]
                }
            ],
            "source": [
                "from random import randint\n",
                "\n",
                "print(randint(3,6))"
            ]
        },
        {
            "cell_type": "markdown",
            "id": "a06fb7be",
            "metadata": {},
            "source": [
                "### importing packages\n",
                " this is related different python files importing"
            ]
        },
        {
            "cell_type": "markdown",
            "id": "ed670c51",
            "metadata": {},
            "source": [
                "### installing external modules"
            ]
        },
        {
            "cell_type": "code",
            "execution_count": 4,
            "id": "1aed7e12",
            "metadata": {},
            "outputs": [
                {
                    "name": "stdout",
                    "output_type": "stream",
                    "text": [
                        "Requirement already satisfied: requests in c:\\users\\kundan\\appdata\\local\\programs\\python\\python312\\lib\\site-packages (2.32.3)\n",
                        "Requirement already satisfied: charset-normalizer<4,>=2 in c:\\users\\kundan\\appdata\\local\\programs\\python\\python312\\lib\\site-packages (from requests) (3.3.2)\n",
                        "Requirement already satisfied: idna<4,>=2.5 in c:\\users\\kundan\\appdata\\local\\programs\\python\\python312\\lib\\site-packages (from requests) (3.7)\n",
                        "Requirement already satisfied: urllib3<3,>=1.21.1 in c:\\users\\kundan\\appdata\\local\\programs\\python\\python312\\lib\\site-packages (from requests) (2.2.2)\n",
                        "Requirement already satisfied: certifi>=2017.4.17 in c:\\users\\kundan\\appdata\\local\\programs\\python\\python312\\lib\\site-packages (from requests) (2024.7.4)\n"
                    ]
                }
            ],
            "source": [
                "! pip install requests"
            ]
        },
        {
            "cell_type": "markdown",
            "id": "fd02cfbd",
            "metadata": {},
            "source": [
                "### Package VS Library\n",
                "\n",
                "Python packages are a set of python modules, while python libraries are a group of python functions aimed to carry out special tasks."
            ]
        },
        {
            "cell_type": "code",
            "execution_count": null,
            "id": "eefa855b",
            "metadata": {},
            "outputs": [],
            "source": []
        }
    ],
    "metadata": {
        "kernelspec": {
            "display_name": "Python 3",
            "language": "python",
            "name": "python3"
        },
        "language_info": {
            "codemirror_mode": {
                "name": "ipython",
                "version": 3
            },
            "file_extension": ".py",
            "mimetype": "text/x-python",
            "name": "python",
            "nbconvert_exporter": "python",
            "pygments_lexer": "ipython3",
            "version": "3.12.4"
        }
    },
    "nbformat": 4,
    "nbformat_minor": 5
}
