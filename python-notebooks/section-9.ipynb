{
    "cells": [
        {
            "cell_type": "markdown",
            "id": "aaadb302",
            "metadata": {},
            "source": [
                "# List Extended"
            ]
        },
        {
            "cell_type": "markdown",
            "id": "e0b81cba",
            "metadata": {},
            "source": [
                "### List Comprehension"
            ]
        },
        {
            "cell_type": "code",
            "execution_count": 4,
            "metadata": {},
            "outputs": [
                {
                    "name": "stdout",
                    "output_type": "stream",
                    "text": [
                        "[0, 1, 2, 3, 4, 5, 6, 7, 8, 9]\n",
                        "[0, 2, 4, 6, 8, 10, 12, 14, 16, 18]\n",
                        "['Kundan', 'Kumarika', 'Pankaj', 'Rashid', 'Shubhank']\n"
                    ]
                }
            ],
            "source": [
                "number = [num for num in range(10)]\n",
                "print(number)\n",
                "\n",
                "\n",
                "even_num = [num for num in range(20) if num % 2 == 0]\n",
                "print(even_num)\n",
                "\n",
                "\n",
                "person_name = [\"kundan\", \"kumarika\", \"pankaj\", \"rashid\", \"shubhank\"]\n",
                "cap_name = [name.capitalize() for name in person_name]\n",
                "print(cap_name)"
            ]
        },
        {
            "cell_type": "markdown",
            "id": "a3cf2268",
            "metadata": {},
            "source": [
                "### Slicing"
            ]
        },
        {
            "cell_type": "code",
            "execution_count": 8,
            "id": "67191719",
            "metadata": {},
            "outputs": [
                {
                    "name": "stdout",
                    "output_type": "stream",
                    "text": [
                        "[0, 1, 2, 3, 4, 5, 6, 7, 8, 9]\n",
                        "[10, 11, 12, 13, 14, 15, 16, 17, 18, 19]\n",
                        "[0, 2, 4, 6, 8, 10, 12, 14, 16, 18]\n",
                        "[10, 12, 14, 16, 18]\n"
                    ]
                }
            ],
            "source": [
                "number = list(range(20))\n",
                "\n",
                "print(number[:10])\n",
                "print(number[10:])\n",
                "print(number[::2])\n",
                "print(number[10::2])"
            ]
        },
        {
            "cell_type": "markdown",
            "id": "79acf902",
            "metadata": {},
            "source": [
                "### modifying list while loop"
            ]
        },
        {
            "cell_type": "code",
            "execution_count": 9,
            "id": "31c7c01a",
            "metadata": {},
            "outputs": [
                {
                    "name": "stdout",
                    "output_type": "stream",
                    "text": [
                        "['kundan', 'kumarika', 'pankaj', 'shubhank', 'rashid']\n",
                        "kundan\n",
                        "kumarika\n",
                        "['kundan', 'pankaj', 'shubhank', 'rashid']\n",
                        "shubhank\n",
                        "['kundan', 'pankaj', 'shubhank', 'rashid']\n",
                        "rashid\n"
                    ]
                }
            ],
            "source": [
                "name_list = [\"kundan\", \"kumarika\", \"pankaj\", \"shubhank\", \"rashid\"]\n",
                "\n",
                "for name in name_list:\n",
                "    if name == \"kumarika\":\n",
                "        name_list.remove(name)\n",
                "    else:\n",
                "        print(name_list)\n",
                "    print(name)"
            ]
        },
        {
            "cell_type": "code",
            "execution_count": null,
            "id": "ce84185d",
            "metadata": {},
            "outputs": [],
            "source": []
        }
    ],
    "metadata": {
        "kernelspec": {
            "display_name": "Python 3",
            "language": "python",
            "name": "python3"
        },
        "language_info": {
            "codemirror_mode": {
                "name": "ipython",
                "version": 3
            },
            "file_extension": ".py",
            "mimetype": "text/x-python",
            "name": "python",
            "nbconvert_exporter": "python",
            "pygments_lexer": "ipython3",
            "version": "3.12.4"
        }
    },
    "nbformat": 4,
    "nbformat_minor": 5
}
