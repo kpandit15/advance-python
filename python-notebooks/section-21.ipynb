{
    "cells": [
        {
            "cell_type": "markdown",
            "id": "02b75d50",
            "metadata": {},
            "source": [
                "# Pycharm"
            ]
        },
        {
            "cell_type": "markdown",
            "id": "13b015dd",
            "metadata": {},
            "source": [
                "### Themes"
            ]
        },
        {
            "cell_type": "markdown",
            "id": "e5caad0a",
            "metadata": {},
            "source": [
                "### Ligatures\n",
                "This is use to make the signs more readable"
            ]
        },
        {
            "cell_type": "markdown",
            "id": "8bf17f94",
            "metadata": {},
            "source": [
                "### Key Promoter X\n",
                "This is a extension to promote you to use more shortcut"
            ]
        },
        {
            "cell_type": "markdown",
            "id": "69391ec4",
            "metadata": {},
            "source": [
                "### Live Templates\n",
                "This use to create template to loop, iterator ro custom code"
            ]
        },
        {
            "cell_type": "markdown",
            "id": "aaf538d2",
            "metadata": {},
            "source": []
        }
    ],
    "metadata": {
        "language_info": {
            "name": "python"
        }
    },
    "nbformat": 4,
    "nbformat_minor": 5
}
