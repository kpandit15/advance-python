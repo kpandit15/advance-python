{
    "cells": [
        {
            "cell_type": "markdown",
            "id": "10b4eb3e",
            "metadata": {},
            "source": [
                "### Error Handling"
            ]
        },
        {
            "cell_type": "markdown",
            "id": "9055d85f",
            "metadata": {},
            "source": [
                "try except Block"
            ]
        },
        {
            "cell_type": "code",
            "execution_count": 4,
            "metadata": {},
            "outputs": [
                {
                    "name": "stdout",
                    "output_type": "stream",
                    "text": [
                        "1.0\n"
                    ]
                }
            ],
            "source": [
                "def do_someting():\n",
                "    user_input = input()\n",
                "    try:\n",
                "        converted_number = float(user_input)\n",
                "        print(converted_number)\n",
                "    except ValueError:\n",
                "        print(\"please insert a valid number\")\n",
                "    except ZeroDivisionError:\n",
                "        print(\"can not divide a value by zero\")\n",
                "    except Exception as e:\n",
                "        print(f\"an error occurred: {e}\")\n",
                "    \n",
                "do_someting()"
            ]
        },
        {
            "cell_type": "markdown",
            "id": "f561cc11",
            "metadata": {},
            "source": [
                "### Else and Finally\n",
                " - else: this will only execute when we have no exception in our try block\n",
                " - finally: this will always execute whether we have exception or not in our try block\n"
            ]
        },
        {
            "cell_type": "code",
            "execution_count": 6,
            "id": "d29625c8",
            "metadata": {},
            "outputs": [
                {
                    "name": "stdout",
                    "output_type": "stream",
                    "text": [
                        "123\n",
                        "You entered a valid number!\n",
                        "End of program\n"
                    ]
                }
            ],
            "source": [
                "user_input = input(\"Please enter your input: \")\n",
                "try:\n",
                "    converted_number = int(user_input)\n",
                "    print(converted_number)\n",
                "except ValueError: \n",
                "    print(\"That's not a valid number!\")\n",
                "else:\n",
                "    print(\"You entered a valid number!\")\n",
                "finally:\n",
                "    print(\"End of program\")"
            ]
        },
        {
            "cell_type": "markdown",
            "id": "c16b5140",
            "metadata": {},
            "source": [
                "### Raise\n",
                "raise: this raises an exception"
            ]
        },
        {
            "cell_type": "code",
            "execution_count": 9,
            "id": "46239923",
            "metadata": {},
            "outputs": [
                {
                    "name": "stdout",
                    "output_type": "stream",
                    "text": [
                        "Sadly, internet is not connected\n"
                    ]
                }
            ],
            "source": [
                "is_connected: bool = False\n",
                "\n",
                "def connect_to_internet():\n",
                "    if not is_connected:\n",
                "        raise ConnectionError(\"Internet not connected\")\n",
                "    else:\n",
                "        print(\"inter is connected and we are happy\")\n",
                "    \n",
                "try:\n",
                "    connect_to_internet()\n",
                "except ConnectionError:\n",
                "    print(\"Sadly, internet is not connected\")\n",
                "except Exception as e:\n",
                "    print(f\"An error occurred: {str(e)}\")"
            ]
        },
        {
            "cell_type": "code",
            "execution_count": null,
            "id": "92119d06",
            "metadata": {},
            "outputs": [],
            "source": []
        }
    ],
    "metadata": {
        "kernelspec": {
            "display_name": "Python 3",
            "language": "python",
            "name": "python3"
        },
        "language_info": {
            "codemirror_mode": {
                "name": "ipython",
                "version": 3
            },
            "file_extension": ".py",
            "mimetype": "text/x-python",
            "name": "python",
            "nbconvert_exporter": "python",
            "pygments_lexer": "ipython3",
            "version": "3.12.4"
        }
    },
    "nbformat": 4,
    "nbformat_minor": 5
}
