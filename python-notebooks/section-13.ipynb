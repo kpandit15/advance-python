{
    "cells": [
        {
            "cell_type": "markdown",
            "id": "9afe2725",
            "metadata": {},
            "source": [
                "# Python Language"
            ]
        },
        {
            "cell_type": "markdown",
            "id": "217038f7",
            "metadata": {},
            "source": [
                "- Python versions\n",
                "    - python3 --version\n",
                "\n",
                "- What is PEP?\n",
                "    - This is a standard create by python that help to maintain code readability and consistency.\n",
                "\n",
                "- Semicolons\n",
                "    - Semicolons can be used in python but not necessary \n",
                "\n",
                "- Docstring\n",
                "    - \"\"\"Write anything using triple quote and it will be automatically generated as docstring this help to read about the function, class or package\"\"\" https://sphinx-rtd-tutorial.readthedocs.io/en/latest/docstrings.html"
            ]
        },
        {
            "cell_type": "markdown",
            "id": "dd8ccb0a",
            "metadata": {},
            "source": []
        }
    ],
    "metadata": {
        "language_info": {
            "name": "python"
        }
    },
    "nbformat": 4,
    "nbformat_minor": 5
}
