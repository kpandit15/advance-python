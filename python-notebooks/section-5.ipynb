{
    "cells": [
        {
            "cell_type": "markdown",
            "id": "c9b95321",
            "metadata": {},
            "source": [
                "## Functions\n",
                "\n",
                "Function help to modularize the code and increase reusability."
            ]
        },
        {
            "cell_type": "code",
            "execution_count": 5,
            "id": "814e5f20",
            "metadata": {},
            "outputs": [
                {
                    "name": "stdout",
                    "output_type": "stream",
                    "text": [
                        "Hello, Mario\n",
                        "Hello, Luigi\n"
                    ]
                }
            ],
            "source": [
                "def greet(name: str):\n",
                "    print(f\"Hello, {name}\")\n",
                "\n",
                "greet(\"Mario\")\n",
                "greet(\"Luigi\")"
            ]
        },
        {
            "cell_type": "code",
            "execution_count": 7,
            "id": "938e8b08",
            "metadata": {},
            "outputs": [
                {
                    "name": "stdout",
                    "output_type": "stream",
                    "text": [
                        "0 1 2 3 4 Done\n",
                        "0 1 2 3 4 Done\n"
                    ]
                }
            ],
            "source": [
                "def repeat():\n",
                "    for i in range(5):\n",
                "        print(i, end=\" \")\n",
                "    print(\"Done\")\n",
                "\n",
                "repeat()\n",
                "repeat()"
            ]
        },
        {
            "cell_type": "markdown",
            "id": "2e8e7e2a",
            "metadata": {},
            "source": [
                "- Argument: is the receiving variable in a function definition.\n",
                "- Parameter: is the sending variable in a function call."
            ]
        },
        {
            "cell_type": "code",
            "execution_count": 11,
            "id": "eacf3d40",
            "metadata": {},
            "outputs": [
                {
                    "name": "stdout",
                    "output_type": "stream",
                    "text": [
                        "Hola, Mario! 18\n",
                        "Hello, Mario! 18\n"
                    ]
                }
            ],
            "source": [
                "def greet(name: str, greeting: str = \"Hello\", age: int = 18) -> None:\n",
                "    print(f\"{greeting}, {name}! {age}\")\n",
                "\n",
                "\n",
                "greet(\"Mario\", \"Hola\")\n",
                "greet(\"Mario\")"
            ]
        },
        {
            "cell_type": "markdown",
            "id": "8a036de6",
            "metadata": {},
            "source": [
                "### Returning value from a funciton"
            ]
        },
        {
            "cell_type": "code",
            "execution_count": 14,
            "id": "e1f538b7",
            "metadata": {},
            "outputs": [
                {
                    "name": "stdout",
                    "output_type": "stream",
                    "text": [
                        "30\n"
                    ]
                }
            ],
            "source": [
                "def sum_numbers(a: float, b: float) -> float:\n",
                "    return a + b\n",
                "\n",
                "s = sum_numbers(10, 20)\n",
                "print(s)"
            ]
        },
        {
            "cell_type": "markdown",
            "id": "49197c5f",
            "metadata": {},
            "source": [
                "### Recursion\n",
                " recursion is used for solving complex problems by breaking them down into smaller instances of the same problem. \n",
                " `def factorial(n)`"
            ]
        },
        {
            "cell_type": "code",
            "execution_count": 17,
            "id": "e5e9ec55",
            "metadata": {},
            "outputs": [
                {
                    "name": "stdout",
                    "output_type": "stream",
                    "text": [
                        "55\n"
                    ]
                }
            ],
            "source": [
                "# sum of all the number from 1 to n\n",
                "def do_someting(n: int) -> int:\n",
                "    if n== 1:\n",
                "        return 1\n",
                "    return n + do_someting(n-1)\n",
                "\n",
                "print(do_someting(10))"
            ]
        },
        {
            "cell_type": "code",
            "execution_count": 21,
            "id": "67c52c1c",
            "metadata": {},
            "outputs": [
                {
                    "data": {
                        "text/plain": [
                            "3628800"
                        ]
                    },
                    "execution_count": 21,
                    "metadata": {},
                    "output_type": "execute_result"
                }
            ],
            "source": [
                "# factorial of a number\n",
                "\n",
                "def factorial(n):\n",
                "    if n==1:\n",
                "        return 1\n",
                "    elif n==0:\n",
                "        return 1\n",
                "    return n*factorial(n-1)\n",
                "\n",
                "factorial(10)"
            ]
        },
        {
            "cell_type": "markdown",
            "id": "2c801645",
            "metadata": {},
            "source": [
                "### *Args & **Kwargs\n",
                " Both are used to pass a variable number of arguments to a function.\n",
                " - *args returna list \n",
                " - **kwargs returns a dictionary "
            ]
        },
        {
            "cell_type": "code",
            "execution_count": 24,
            "id": "9b3a4ae7",
            "metadata": {},
            "outputs": [
                {
                    "name": "stdout",
                    "output_type": "stream",
                    "text": [
                        "('Mario', 'Kumarika', 'pankaj')\n",
                        "Hello, Mario!\n",
                        "Hello, Kumarika!\n",
                        "Hello, pankaj!\n"
                    ]
                }
            ],
            "source": [
                "# *args\n",
                "\n",
                "def greet_people(*people: str):\n",
                "    print(people)\n",
                "    for name in people:\n",
                "        print(f\"Hello, {name}!\")\n",
                "\n",
                "greet_people(\"Mario\", \"Kumarika\", \"pankaj\")"
            ]
        },
        {
            "cell_type": "code",
            "execution_count": 27,
            "id": "2f71c91b",
            "metadata": {},
            "outputs": [
                {
                    "name": "stdout",
                    "output_type": "stream",
                    "text": [
                        "('mario',)\n",
                        "{'name': 'Mario', 'age': 10}\n",
                        "Mario\n"
                    ]
                }
            ],
            "source": [
                "# **kwargs\n",
                "\n",
                "def do_someting(*args, **kwargs):\n",
                "    print(args)\n",
                "    print(kwargs)\n",
                "\n",
                "    print(kwargs[\"name\"])\n",
                "\n",
                "do_someting(\"mario\", name=\"Mario\", age=10)"
            ]
        },
        {
            "cell_type": "markdown",
            "id": "6dfe0712",
            "metadata": {},
            "source": [
                "### Keyword and Positional Argument * & /\n",
                "- `* keyword argument` have to send keyword after this argument\n",
                "- `/ positional argumet` only send positional argument before this sign"
            ]
        },
        {
            "cell_type": "code",
            "execution_count": 35,
            "id": "41cb7314",
            "metadata": {},
            "outputs": [
                {
                    "name": "stdout",
                    "output_type": "stream",
                    "text": [
                        "mario\n",
                        "Kumarika\n",
                        "1 2 3\n"
                    ]
                }
            ],
            "source": [
                "def pos_only_arg(arg, /):\n",
                "    print(arg)\n",
                "\n",
                "def kwd_only_arg(*, arg):\n",
                "    print(arg)\n",
                "\n",
                "def combined_example(pos_only, /, standard, *, kwd_only): \n",
                "    print(pos_only, standard, kwd_only) \n",
                "\n",
                "\n",
                "pos_only_arg(\"mario\")\n",
                "kwd_only_arg(arg=\"Kumarika\")\n",
                "combined_example(1, 2, kwd_only=3)"
            ]
        },
        {
            "cell_type": "code",
            "execution_count": null,
            "id": "99f15df0",
            "metadata": {},
            "outputs": [],
            "source": []
        }
    ],
    "metadata": {
        "kernelspec": {
            "display_name": "Python 3",
            "language": "python",
            "name": "python3"
        },
        "language_info": {
            "codemirror_mode": {
                "name": "ipython",
                "version": 3
            },
            "file_extension": ".py",
            "mimetype": "text/x-python",
            "name": "python",
            "nbconvert_exporter": "python",
            "pygments_lexer": "ipython3",
            "version": "3.12.4"
        }
    },
    "nbformat": 4,
    "nbformat_minor": 5
}
