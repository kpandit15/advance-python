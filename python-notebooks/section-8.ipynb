{
    "cells": [
        {
            "cell_type": "markdown",
            "id": "405fd07c",
            "metadata": {},
            "source": [
                "# Python Basics 2"
            ]
        },
        {
            "cell_type": "markdown",
            "id": "20971132",
            "metadata": {},
            "source": [
                "### The \"with\" keyword"
            ]
        },
        {
            "cell_type": "code",
            "execution_count": 3,
            "metadata": {},
            "outputs": [
                {
                    "name": "stdout",
                    "output_type": "stream",
                    "text": [
                        "India is a beautiful country.\n"
                    ]
                }
            ],
            "source": [
                "# this is very old approach\n",
                "\n",
                "file = open(\"data/sample.txt\")\n",
                "print(file.read())\n",
                "\n",
                "file.close()"
            ]
        },
        {
            "cell_type": "code",
            "execution_count": 5,
            "id": "b9dd9721",
            "metadata": {},
            "outputs": [
                {
                    "name": "stdout",
                    "output_type": "stream",
                    "text": [
                        "India is a beautiful country.\n"
                    ]
                }
            ],
            "source": [
                "# new approach\n",
                "with open(\"data/sample.txt\") as file:\n",
                "    text = file.read()\n",
                "    print(text)"
            ]
        },
        {
            "cell_type": "markdown",
            "id": "636aadbc",
            "metadata": {},
            "source": [
                "###  Refactor"
            ]
        },
        {
            "cell_type": "code",
            "execution_count": 7,
            "id": "3e599746",
            "metadata": {},
            "outputs": [
                {
                    "name": "stdout",
                    "output_type": "stream",
                    "text": [
                        "Hello WOrld!\n",
                        "Hello WOrld!\n"
                    ]
                }
            ],
            "source": [
                "# ctrl + sift + R\n",
                "def greet():\n",
                "    print(\"Hello WOrld!\")\n",
                "\n",
                "greet()\n",
                "greet()"
            ]
        },
        {
            "cell_type": "markdown",
            "id": "2929e492",
            "metadata": {},
            "source": [
                "### Truthy and Falsy"
            ]
        },
        {
            "cell_type": "code",
            "execution_count": 9,
            "id": "13443187",
            "metadata": {},
            "outputs": [
                {
                    "name": "stdout",
                    "output_type": "stream",
                    "text": [
                        "False\n",
                        "False\n",
                        "False\n",
                        "False\n",
                        "False\n",
                        "False\n",
                        "False\n",
                        "False\n",
                        "False\n",
                        "False\n"
                    ]
                }
            ],
            "source": [
                "empty_list = []\n",
                "empty_dict = {}\n",
                "empty_tuple = ()\n",
                "empty_set = set()\n",
                "empty_string = \"\"\n",
                "empty_range = range(0)\n",
                "\n",
                "integer_number = 0\n",
                "float_number = 0.0\n",
                "complex_number = complex(0j)\n",
                "none = None\n",
                "\n",
                "print(bool(none))\n",
                "print(bool(empty_list))\n",
                "print(bool(empty_dict))\n",
                "print(bool(empty_tuple)) \n",
                "print(bool(empty_set))\n",
                "print(bool(empty_string))\n",
                "print(bool(empty_range))\n",
                "\n",
                "print(bool(integer_number))\n",
                "print(bool(float_number))\n",
                "print(bool(complex_number))"
            ]
        },
        {
            "cell_type": "markdown",
            "id": "45778a0c",
            "metadata": {},
            "source": [
                "### Enums\n",
                "Use to create constants throught the program"
            ]
        },
        {
            "cell_type": "code",
            "execution_count": 7,
            "id": "878eef63",
            "metadata": {},
            "outputs": [
                {
                    "name": "stdout",
                    "output_type": "stream",
                    "text": [
                        "red\n",
                        "Red\n"
                    ]
                }
            ],
            "source": [
                "from enum import Enum\n",
                "\n",
                "class Color(Enum):\n",
                "    RED = \"Red\"\n",
                "    YELLOW = \"Yellow\"\n",
                "    BLUE = \"Blue\"\n",
                "\n",
                "def check_color(color: Color):\n",
                "    if color == Color.RED:\n",
                "        print(\"red\")\n",
                "    elif color == Color.YELLOW:\n",
                "        print(\"yellow\")\n",
                "    else:\n",
                "        print(\"Blue\")\n",
                "\n",
                "check_color(Color.RED)\n",
                "\n",
                "print(Color.RED.value)"
            ]
        },
        {
            "cell_type": "markdown",
            "id": "1476c5e1",
            "metadata": {},
            "source": [
                "### Comparing Floats\n",
                "floating-point numbers are represented in binary, and some decimal values cannot be exactly represented in this format. This leads to small rounding errors.\n",
                "\n",
                "As a solution for comparing floating-point numbers, you can check if the difference between them is within a small tolerance:\n",
                "\n",
                "`tolerance = 1e-9`\n",
                "\n",
                "`print(abs(a - b) < tolerance)  # True`\n"
            ]
        },
        {
            "cell_type": "code",
            "execution_count": 9,
            "id": "0a077b83",
            "metadata": {},
            "outputs": [
                {
                    "name": "stdout",
                    "output_type": "stream",
                    "text": [
                        "False\n",
                        "0.3\n",
                        "0.30000000000000004\n"
                    ]
                }
            ],
            "source": [
                "a = 0.3\n",
                "b = 0.1 + 0.2\n",
                "\n",
                "print(a == b)\n",
                "print(a)\n",
                "print(b)"
            ]
        },
        {
            "cell_type": "code",
            "execution_count": 10,
            "id": "bc5b51dc",
            "metadata": {},
            "outputs": [
                {
                    "name": "stdout",
                    "output_type": "stream",
                    "text": [
                        "0.3 - 0.30000000000000004 = 5.551115123125783e-17\n",
                        "True\n"
                    ]
                }
            ],
            "source": [
                "# Best approach\n",
                "\n",
                "def comparing_float(a: float, b: float, tol: float) -> bool:\n",
                "    abs_difference = abs(a-b)\n",
                "    print(f\"{a} - {b} = {abs_difference}\")\n",
                "    return abs_difference < tol\n",
                "\n",
                "first = 0.3\n",
                "second = 0.1 + 0.2\n",
                "print(comparing_float(first, second, 0.0000001)) "
            ]
        },
        {
            "cell_type": "markdown",
            "id": "6273757d",
            "metadata": {},
            "source": [
                "### if \"__name__\" == \"__main__\":\n",
                "It ensures that the code block under this statement will only be executed when the script is run directly, not when it's imported as a module elsewhere."
            ]
        },
        {
            "cell_type": "code",
            "execution_count": 11,
            "id": "17f9ff35",
            "metadata": {},
            "outputs": [],
            "source": [
                "def do_something():\n",
                "    print(\"Hello WOrld\")\n",
                "\n",
                "if \"__name__\" == \"__main__\":\n",
                "    do_something()"
            ]
        },
        {
            "cell_type": "markdown",
            "id": "599ad51a",
            "metadata": {},
            "source": [
                "### nonlocal and global\n",
                "In Python, nonlocal and global are keywords used to modify the behavior of variables in different scopes (e.g., within nested functions or the global scope)."
            ]
        },
        {
            "cell_type": "code",
            "execution_count": 2,
            "id": "03d1a44a",
            "metadata": {},
            "outputs": [
                {
                    "name": "stdout",
                    "output_type": "stream",
                    "text": [
                        "20\n"
                    ]
                }
            ],
            "source": [
                "# Global\n",
                "x = 10  # Global variable\n",
                "\n",
                "def modify_global():\n",
                "    global x  # Declare x as global\n",
                "    x = 20  # Modify the global variable\n",
                "\n",
                "modify_global()\n",
                "print(x)  # Output: 20 (global variable was modified)"
            ]
        },
        {
            "cell_type": "code",
            "execution_count": 3,
            "id": "ff69a8f3",
            "metadata": {},
            "outputs": [
                {
                    "name": "stdout",
                    "output_type": "stream",
                    "text": [
                        "10\n"
                    ]
                }
            ],
            "source": [
                "# Local\n",
                "def outer():\n",
                "    y = 5  # Variable in the outer function's scope\n",
                "\n",
                "    def inner():\n",
                "        nonlocal y  # Declare y as nonlocal\n",
                "        y = 10  # Modify the variable in the outer function's scope\n",
                "\n",
                "    inner()\n",
                "    print(y)  # Output: 10 (nonlocal variable was modified)\n",
                "\n",
                "outer()"
            ]
        },
        {
            "cell_type": "code",
            "execution_count": null,
            "id": "412e8f27",
            "metadata": {},
            "outputs": [],
            "source": []
        }
    ],
    "metadata": {
        "kernelspec": {
            "display_name": ".venv",
            "language": "python",
            "name": "python3"
        },
        "language_info": {
            "codemirror_mode": {
                "name": "ipython",
                "version": 3
            },
            "file_extension": ".py",
            "mimetype": "text/x-python",
            "name": "python",
            "nbconvert_exporter": "python",
            "pygments_lexer": "ipython3",
            "version": "3.12.1"
        }
    },
    "nbformat": 4,
    "nbformat_minor": 5
}
